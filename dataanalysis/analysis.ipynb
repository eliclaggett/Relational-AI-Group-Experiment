{
 "cells": [
  {
   "cell_type": "markdown",
   "metadata": {},
   "source": [
    "# Data Analysis for Relational AI Group Experiment\n",
    "\n",
    "Authors: Elijah Claggett, Faria Huq"
   ]
  },
  {
   "cell_type": "code",
   "execution_count": null,
   "metadata": {},
   "outputs": [],
   "source": [
    "# Important Variables\n",
    "\n",
    "# Location of Empirica data files\n",
    "data_path = './data/'"
   ]
  },
  {
   "cell_type": "code",
   "execution_count": null,
   "metadata": {},
   "outputs": [],
   "source": [
    "# Imports\n",
    "from scipy.stats import ttest_ind, bootstrap\n",
    "from convokit import PolitenessStrategies\n",
    "import matplotlib.pyplot as plt\n",
    "from colorama import Fore\n",
    "from scipy import stats\n",
    "import seaborn as sns\n",
    "import pandas as pd\n",
    "import numpy as np\n",
    "import requests\n",
    "import spacy\n",
    "import json\n",
    "import re\n",
    "import math\n",
    "import os\n",
    "from utils import prettyPrintMulti, prettyPrintList, prettyPrintChats, bf, readDataFiles, empiricaColumnExists, getMultiGameData"
   ]
  },
  {
   "cell_type": "markdown",
   "metadata": {},
   "source": [
    "## 1) Load data"
   ]
  },
  {
   "cell_type": "code",
   "execution_count": null,
   "metadata": {},
   "outputs": [],
   "source": [
    "# Print data files\n",
    "trials = [f for f in os.listdir(data_path) if f.endswith('.json')]\n",
    "trials.sort()\n",
    "\n",
    "print(bf('All trials:'))\n",
    "prettyPrintList(trials)"
   ]
  },
  {
   "cell_type": "code",
   "execution_count": null,
   "metadata": {},
   "outputs": [],
   "source": [
    "game_dict_multi, player_dict_multi, stage_dict_multi, playerStage_dict_multi = readDataFiles(trials, data_path)"
   ]
  },
  {
   "cell_type": "code",
   "execution_count": null,
   "metadata": {},
   "outputs": [],
   "source": [
    "from datetime import datetime\n",
    "\n",
    "def truncate_to_microseconds(ts):\n",
    "    if \".\" in ts:\n",
    "        base, rest = ts.split(\".\")\n",
    "        digits = rest.rstrip(\"Z\")  # remove Z or +00:00 if present\n",
    "        micro = digits[:6]  # truncate to microseconds\n",
    "        return f\"{base}.{micro}+00:00\"\n",
    "    return ts.replace(\"Z\", \"+00:00\")"
   ]
  },
  {
   "cell_type": "code",
   "execution_count": null,
   "metadata": {},
   "outputs": [],
   "source": [
    "# filter out the stage times \n",
    "import numpy as np\n",
    "\n",
    "updated_stage_dict_multi = {}\n",
    "for each_trial in stage_dict_multi.keys():\n",
    "    stage_list = [] \n",
    "    # print('each_trial', each_trial)\n",
    "    if 'name' not in stage_dict_multi[each_trial].keys(): continue\n",
    "    if 'ended' not in stage_dict_multi[each_trial].keys(): continue\n",
    "    if 'started' not in stage_dict_multi[each_trial].keys(): continue\n",
    "    # print('name', stage_dict_multi[each_trial]['name'][1:4])\n",
    "    # print('started', stage_dict_multi[each_trial]['started'][1:4])\n",
    "    # print('ended', stage_dict_multi[each_trial]['ended'][1:4])\n",
    "    for each_entry_name, each_entry_time in zip(stage_dict_multi[each_trial]['name'], stage_dict_multi[each_trial]['started']):\n",
    "        # print(each_entry_name)\n",
    "        # print(each_entry_time)\n",
    "        \n",
    "        if not isinstance(each_entry_time, float) or not math.isnan(each_entry_time):\n",
    "            iso_dt = datetime.fromisoformat(truncate_to_microseconds(each_entry_time[0]['dt']))\n",
    "            iso_unix_ms = int(iso_dt.timestamp() * 1000)\n",
    "        else:\n",
    "            iso_unix_ms = np.inf\n",
    "        stage_list.append({'name': each_entry_name[0]['val'], 'startTime': iso_unix_ms})\n",
    "    updated_stage_dict_multi[each_trial] = stage_list\n",
    "# print(updated_stage_dict_multi)"
   ]
  },
  {
   "cell_type": "markdown",
   "metadata": {},
   "source": [
    "## 2) Clean data\n",
    "\n",
    "Remove:\n",
    "\n",
    "- People who didn't finish the entire experiment\n",
    "- Test data (eli / faria)"
   ]
  },
  {
   "cell_type": "code",
   "execution_count": null,
   "metadata": {},
   "outputs": [],
   "source": [
    "exclude_local_trails = ['01JTP5XG9V373HW0JF06P59GNZ', '01JTP48A46PS57YC8B2MC6T1MT', '01JTP4B3CMETA57BXMM3E66WFN', '01JTQ4YH098ZARPFM1TSYTR1XP', '01JTQ6FRYG87XERGETTKVQW098', '01JTQ7FBBK75WQ7RXXFVDRT1NV']"
   ]
  },
  {
   "cell_type": "code",
   "execution_count": null,
   "metadata": {},
   "outputs": [],
   "source": [
    "# Data cleaning\n",
    "\n",
    "notFinishedStudy = 0\n",
    "totalRecruited = 0\n",
    "for gameID in player_dict_multi:\n",
    "    for participantID in player_dict_multi[gameID].index:\n",
    "        totalRecruited += 1\n",
    "        if type(player_dict_multi[gameID].loc[participantID]['participantIdentifier']) == list:\n",
    "            eID = json.loads(player_dict_multi[gameID].loc[participantID]['participantIdentifier'][-1]['val'])\n",
    "            \n",
    "            # Remove test data (only if we want to isolate real experiment data)\n",
    "            # if eID[0:3].lower() == 'eli':\n",
    "            #     totalRecruited -= 1\n",
    "            #     player_dict_multi[gameID].drop(participantID, inplace=True)\n",
    "            #     continue\n",
    "        \n",
    "        # Remove anyone who didn't complete the entire experiment (aka didn't submit a summary)\n",
    "        if 'summary' not in player_dict_multi[gameID].loc[participantID]:\n",
    "            player_dict_multi[gameID].drop([participantID], inplace=True)\n",
    "            notFinishedStudy += 1\n",
    "            continue\n"
   ]
  },
  {
   "cell_type": "code",
   "execution_count": null,
   "metadata": {},
   "outputs": [],
   "source": [
    "# Summarize the data cleaning process\n",
    "\n",
    "def getSummaries(p):\n",
    "    if empiricaColumnExists(p, 'summary'):\n",
    "        summary = json.loads(p['summary'][-1]['val'])\n",
    "        return summary\n",
    "\n",
    "summaries = getMultiGameData(getSummaries, game_dict_multi, player_dict_multi)\n",
    "\n",
    "numParticipants = 0\n",
    "for gameID in summaries:\n",
    "    if gameID in exclude_local_trails:  continue\n",
    "    # print('summaries', summaries)\n",
    "    for participantID in summaries[gameID]:\n",
    "        numParticipants += 1\n",
    "\n",
    "print(f'Total participants recruited: {totalRecruited}')\n",
    "print(f'Total participants kept: {numParticipants}')\n",
    "print('---------------------------')\n",
    "print(f'Total participants not finish study: {notFinishedStudy}')"
   ]
  },
  {
   "cell_type": "code",
   "execution_count": null,
   "metadata": {},
   "outputs": [],
   "source": [
    "# Get Prolific metadata\n",
    "\n",
    "def getParticipantIdentifier(p):\n",
    "    if empiricaColumnExists(p, 'participantIdentifier'):\n",
    "        pID = json.loads(p['participantIdentifier'][-1]['val'])\n",
    "        return pID\n",
    "\n",
    "def getProlificSession(p):\n",
    "    if empiricaColumnExists(p, 'sessionID'):\n",
    "        sessionID = json.loads(p['sessionID'][-1]['val'])\n",
    "        return sessionID\n",
    "def getProlificStudy(p):\n",
    "    if empiricaColumnExists(p, 'studyID'):\n",
    "        studyID = json.loads(p['studyID'][-1]['val'])\n",
    "        return studyID\n",
    "\n",
    "\n",
    "pIDs = getMultiGameData(getParticipantIdentifier, game_dict_multi, player_dict_multi)\n",
    "sessionIDs = getMultiGameData(getProlificSession, game_dict_multi, player_dict_multi)\n",
    "studyIDs = getMultiGameData(getProlificStudy, game_dict_multi, player_dict_multi)\n",
    "\n",
    "e2p = {}\n",
    "e2session = {}\n",
    "e2study = {}\n",
    "for gameID in pIDs:\n",
    "    for participantID in pIDs[gameID]:\n",
    "        e2p[participantID] = pIDs[gameID][participantID][0]\n",
    "for gameID in pIDs:\n",
    "    for participantID in sessionIDs[gameID]:\n",
    "        if len(sessionIDs[gameID][participantID]) > 0:\n",
    "            e2session[participantID] = sessionIDs[gameID][participantID][0]\n",
    "for gameID in pIDs:\n",
    "    for participantID in studyIDs[gameID]:\n",
    "        if len(studyIDs[gameID][participantID]) > 0:\n",
    "            e2study[participantID] = studyIDs[gameID][participantID][0]\n"
   ]
  },
  {
   "cell_type": "markdown",
   "metadata": {},
   "source": [
    "## 3) Select and format data"
   ]
  },
  {
   "cell_type": "code",
   "execution_count": null,
   "metadata": {},
   "outputs": [],
   "source": [
    "# Participants\n",
    "\n",
    "def getChatIdentities(p):\n",
    "    if empiricaColumnExists(p, 'selfIdentity'):\n",
    "        chatIdentities = json.loads(p['selfIdentity'][-1]['val'])\n",
    "        return chatIdentities\n",
    "\n",
    "chatIdentities = getMultiGameData(getChatIdentities, game_dict_multi, player_dict_multi)\n",
    "\n",
    "for gameID in chatIdentities:\n",
    "    if gameID in exclude_local_trails:  continue\n",
    "    print(bf('Trial:'), gameID)\n",
    "    for participantID in chatIdentities[gameID]:\n",
    "        print(bf('Participant:'), e2p[participantID], bf('Chat Identity:'), chatIdentities[gameID][participantID][-1])"
   ]
  },
  {
   "cell_type": "code",
   "execution_count": null,
   "metadata": {},
   "outputs": [],
   "source": [
    "# Participants\n",
    "\n",
    "def getjoinedrooms(p):\n",
    "    if empiricaColumnExists(p, 'joinedRooms'):\n",
    "        chatIdentities = json.loads(p['joinedRooms'][-1]['val'])\n",
    "        return chatIdentities\n",
    "\n",
    "joinedrooms = getMultiGameData(getjoinedrooms, game_dict_multi, player_dict_multi)\n",
    "\n",
    "for gameID in joinedrooms:\n",
    "    if gameID in exclude_local_trails:  continue\n",
    "    print(bf('Trial:'), gameID)\n",
    "    for participantID in joinedrooms[gameID]:\n",
    "        print(bf('Participant:'), e2p[participantID], bf('joined room:'), joinedrooms[gameID][participantID][-1])\n"
   ]
  },
  {
   "cell_type": "code",
   "execution_count": null,
   "metadata": {},
   "outputs": [],
   "source": [
    "# Tutorial Duration\n",
    "\n",
    "def getTutorialDuration(p):\n",
    "    if not empiricaColumnExists(p, 'participantID') or not empiricaColumnExists(p, 'passedTutorial'):\n",
    "        return None\n",
    "\n",
    "    joinTime = p['participantID'][-1]['dt']\n",
    "    tutorialPassTime = p['passedTutorial'][-1]['dt']\n",
    "\n",
    "    t0 = datetime.fromisoformat(truncate_to_microseconds(joinTime))\n",
    "    t1 = datetime.fromisoformat(truncate_to_microseconds(tutorialPassTime))\n",
    "\n",
    "    duration_minutes = (t1 - t0).total_seconds() / 60\n",
    "    return round(duration_minutes, 2)\n",
    "\n",
    "TutorialDurations = getMultiGameData(getTutorialDuration, game_dict_multi, player_dict_multi)\n",
    "\n",
    "for gameID in TutorialDurations:\n",
    "    if gameID in exclude_local_trails:  continue\n",
    "    print(bf('Trial:'), gameID)\n",
    "    for participantID in TutorialDurations[gameID]:\n",
    "        print(bf('Participant:'), e2p[participantID], bf('Tutorial Duration (minute):'), TutorialDurations[gameID][participantID])"
   ]
  },
  {
   "cell_type": "code",
   "execution_count": null,
   "metadata": {},
   "outputs": [],
   "source": [
    "# Initial survey results\n",
    "def getSurveyResults(p):\n",
    "    if empiricaColumnExists(p, 'surveyAnswers'):\n",
    "        surveyResults = json.loads(p['surveyAnswers'][-1]['val'])\n",
    "        return surveyResults\n",
    "\n",
    "surveyResults = getMultiGameData(getSurveyResults, game_dict_multi, player_dict_multi)\n",
    "\n",
    "for gameID in chatIdentities:\n",
    "    if gameID in exclude_local_trails:  continue\n",
    "    print(bf('Trial:'), gameID)\n",
    "    for participantID in surveyResults[gameID]:\n",
    "        print(bf('Participant:'), e2p[participantID], bf('Survey Results:'), surveyResults[gameID][participantID])"
   ]
  },
  {
   "cell_type": "code",
   "execution_count": null,
   "metadata": {},
   "outputs": [],
   "source": [
    "dummy_time = 1746711756197\n",
    "all_times = updated_stage_dict_multi['01JTR1DWPVWF94FNXGNS546P2E']\n",
    "for entry_id in range(len(all_times)-1):\n",
    "    if all_times[entry_id]['startTime']<= dummy_time and all_times[entry_id+1]['startTime']>= dummy_time: \n",
    "        print(all_times[entry_id]['name'])"
   ]
  },
  {
   "cell_type": "code",
   "execution_count": null,
   "metadata": {},
   "outputs": [],
   "source": [
    "updated_stage_dict_multi[gameID]"
   ]
  },
  {
   "cell_type": "code",
   "execution_count": null,
   "metadata": {},
   "outputs": [],
   "source": [
    "# Chat messages\n",
    "\n",
    "# Chat room creation times\n",
    "def getCreatedRooms(p):\n",
    "    if empiricaColumnExists(p, 'createRoom'):\n",
    "        results = json.loads(p['createRoom'][-1]['val'])\n",
    "        return results\n",
    "createdRooms = getMultiGameData(getCreatedRooms, game_dict_multi, player_dict_multi)\n",
    "\n",
    "# Chat rooms\n",
    "for gameID in game_dict_multi:\n",
    "    if gameID in exclude_local_trails:  continue\n",
    "    if 'chatRooms' not in game_dict_multi[gameID].keys():\n",
    "        print('no chatroom found for', gameID)\n",
    "        continue\n",
    "        \n",
    "    if isinstance(game_dict_multi[gameID]['chatRooms'][0], float):\n",
    "        print('no chatroom found for', gameID)\n",
    "        continue\n",
    "        \n",
    "    rooms = json.loads(game_dict_multi[gameID]['chatRooms'][0][-1]['val'])\n",
    "    print(bf('Trial:'), gameID)\n",
    "    print(bf('Chat rooms:'), rooms)\n",
    "    \n",
    "    for participantID in createdRooms[gameID]:\n",
    "        if len(createdRooms[gameID][participantID]) > 0:\n",
    "            print('Participant', bf(e2p[participantID]), 'created room at', createdRooms[gameID][participantID][-1])\n",
    "\n",
    "    for roomID in rooms:\n",
    "        print()\n",
    "        print(bf('#'+rooms[roomID]['title']), 'messages:')\n",
    "        roomMessages = json.loads(game_dict_multi[gameID]['chatChannel-'+roomID][0][-1]['val'])\n",
    "        stagetimeStamps = updated_stage_dict_multi[gameID] \n",
    "        # timeStamps = game_dict_multi[gameID]['chatChannel-'+roomID][0][-1]['dt']\n",
    "        prettyPrintChats(roomMessages, stagetimeStamps)"
   ]
  },
  {
   "cell_type": "code",
   "execution_count": null,
   "metadata": {},
   "outputs": [],
   "source": [
    "# Suggestions\n",
    "\n",
    "def getProvidedSuggestions(p):\n",
    "    if empiricaColumnExists(p, 'suggestedReply'):\n",
    "        results = []\n",
    "        for each_suggestion in p['suggestedReply']:\n",
    "            results.append(each_suggestion['val'])\n",
    "        return results\n",
    "def getCopiedSuggestions(p):\n",
    "    if empiricaColumnExists(p, 'copySuggestion'):\n",
    "        for each_suggestion in p['copySuggestion']:\n",
    "            results.append(each_suggestion['val'])\n",
    "        return results\n",
    "def getAcceptedSuggestions(p):\n",
    "    if empiricaColumnExists(p, 'sendSuggestion'):\n",
    "        for each_suggestion in p['sendSuggestion']:\n",
    "            results.append(each_suggestion['val'])\n",
    "        return results\n",
    "    \n",
    "providedSuggestions = getMultiGameData(getProvidedSuggestions, game_dict_multi, player_dict_multi)\n",
    "copiedSuggestions = getMultiGameData(getCopiedSuggestions, game_dict_multi, player_dict_multi)\n",
    "acceptedSuggestions = getMultiGameData(getAcceptedSuggestions, game_dict_multi, player_dict_multi)\n",
    "\n",
    "for gameID in providedSuggestions:\n",
    "    if gameID in exclude_local_trails:  continue\n",
    "    print(bf('Trial:'), gameID)\n",
    "    for participantID in providedSuggestions[gameID]:\n",
    "        print(bf('Participant:'), e2p[participantID])\n",
    "        print('\\t', bf('Suggestions provided:'), providedSuggestions[gameID][participantID])\n",
    "        print('\\t', bf('Suggestions edited:'), copiedSuggestions[gameID][participantID])\n",
    "        print('\\t', bf('Suggestions accepted:'), acceptedSuggestions[gameID][participantID])"
   ]
  },
  {
   "cell_type": "code",
   "execution_count": null,
   "metadata": {},
   "outputs": [],
   "source": [
    "# Summaries\n",
    "\n",
    "def getSummaryText(p):\n",
    "    if empiricaColumnExists(p, 'summaryText'):\n",
    "        results = json.loads(p['summaryText'][-1]['val'])\n",
    "        return results\n",
    "\n",
    "def getSummaryAgreement(p):\n",
    "    if empiricaColumnExists(p, 'summaryAgreement'):\n",
    "        results = json.loads(p['summaryAgreement'][-1]['val'])\n",
    "        return results\n",
    "def getSuggestionRating(p):\n",
    "    if empiricaColumnExists(p, 'suggestionRating'):\n",
    "        results = json.loads(p['suggestionRating'][-1]['val'])\n",
    "        return results\n",
    "    \n",
    "def getSuggestionExplanation(p):\n",
    "    if empiricaColumnExists(p, 'suggestionExplanation'):\n",
    "        results = json.loads(p['suggestionExplanation'][-1]['val'])\n",
    "        return results\n",
    "\n",
    "summaryText = getMultiGameData(getSummaryText, game_dict_multi, player_dict_multi)\n",
    "summaryAgreement = getMultiGameData(getSummaryAgreement, game_dict_multi, player_dict_multi)\n",
    "suggestionRating = getMultiGameData(getSuggestionRating, game_dict_multi, player_dict_multi)\n",
    "suggestionExplanation = getMultiGameData(getSuggestionExplanation, game_dict_multi, player_dict_multi)\n",
    "\n",
    "for gameID in summaryText:\n",
    "    if gameID in exclude_local_trails:  continue\n",
    "    print(bf('Trial:'), gameID)\n",
    "    for participantID in summaryText[gameID]:\n",
    "        print(bf('Participant:'), e2p[participantID])\n",
    "        print('\\t', bf('Summary Text:'), summaryText[gameID][participantID])\n",
    "        print('\\t', bf('Summary Agreement:'), summaryAgreement[gameID][participantID])\n",
    "        print('\\t', bf('Suggestion Rating:'), suggestionRating[gameID][participantID])\n",
    "        print('\\t', bf('Suggestion Explanation:'), suggestionExplanation[gameID][participantID])"
   ]
  },
  {
   "cell_type": "markdown",
   "metadata": {},
   "source": [
    "## 4) Figures"
   ]
  },
  {
   "cell_type": "code",
   "execution_count": null,
   "metadata": {},
   "outputs": [],
   "source": [
    "# Put figure code here"
   ]
  }
 ],
 "metadata": {
  "kernelspec": {
   "display_name": "Python 3 (ipykernel)",
   "language": "python",
   "name": "python3"
  },
  "language_info": {
   "codemirror_mode": {
    "name": "ipython",
    "version": 3
   },
   "file_extension": ".py",
   "mimetype": "text/x-python",
   "name": "python",
   "nbconvert_exporter": "python",
   "pygments_lexer": "ipython3",
   "version": "3.9.21"
  }
 },
 "nbformat": 4,
 "nbformat_minor": 4
}
